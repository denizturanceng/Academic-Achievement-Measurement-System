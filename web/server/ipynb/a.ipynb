{
 "cells": [
  {
   "cell_type": "markdown",
   "metadata": {},
   "source": [
    "Tıp Öğretim Elemanları İçin Çeşitli Faaliyetler \n",
    "- Ortopedi ve Travmatoloji Ana Bilim Dalı için Tıp Fakültesi Mezuniyet Öncesi Öğrenciler ile Tıpta Uzmanlık Öğrencilerine Verilmesi Planlanan Teorik Eğitimi Dışındaki Eğitim Faaliyetleri \n",
    "Servis Viziti ve Çalışması  \n",
    "Radyolojik Değerlendirme Çalışması  \n",
    "Olgu Sunumu ve Günün Özeti  \n",
    "Poliklinik Çalışması  \n",
    "Ortopedik Hastada Genel Muayene  \n",
    "Kemik Biyomekaniği  \n",
    "Omuz ve Dirsek Bağ Lezyonlarında Muayene Yöntemleri  \n",
    "El bileği ve El Bağ Lezyonlarında Muayene Yöntemleri  \n",
    "Kalça ve Diz Bağ Lezyonlarında Muayene Yöntemleri  \n",
    "Ayak bileği ve Ayak Bağ Lezyonlarında Muayene Yöntemleri \n",
    "- Genel Cerrahi Stajı Pratik Uygulama Dersleri \n",
    "(Haftalık saatler) \n",
    "Hasta Başı Eğitimler  (8 saat) \n",
    "Pratik Eğitimler (9 saat) \n",
    "- Adli Tıp Anabilim Klinik / Laboratuvar Uygulamaları \n",
    "Adli muayene \n",
    "Adli Rapor yazımı \n",
    "Kemik yaşı tayini \n",
    "Cinsel suç muayenesi \n",
    "Maluliyet ve Engellilik değerlendirmesi \n",
    "Ölü muayenesi \n",
    "Adli Otopsi  \n",
    "- Çocuk Sağlığı ve Hastalıkları Anabilim Dalı mezuniyet öncesi öğrencileri ve mezuniyet sonrası tıpta uzmanlık öğrencilerine yönelik yürütülmekte olan teorik eğitim haricindeki eğitim faaliyetleri \n",
    "Yataklı servis ve yoğun bakım hasta başı vizitleri  \n",
    "Ana dal ve yan dal polikliniklerinde pratik ve uygulamalı eğitim  \n",
    "İnvaziv girişimler uygulamalı eğitimleri  \n",
    "Poliklinik olgu sunumları  \n",
    "Servis olgu sunumları  \n",
    "Dosya tartışmaları  \n",
    "Makale tartışmaları  \n",
    "Sertifikalı kurs programları (Neonatal resüsitasyon programı/ Çocuk temel yaşam desteği kursu/ Çocuk ileri yaşam desteği kursu/ Temel mekanik ventilasyon kursu/ İleri mekanik ventilasyon kursu)  \n",
    "İnteraktif eğitimler  \n",
    "Radyoloji toplantıları  \n",
    "İnterdisipliner konseyler (Neonatoloji-perinatoloji/ nöroradyoloji toplantısı/ kardiyovasküler konsey/ toraks konseyi/ nefroloji-üroloji konseyi/ cinsel gelişim farklılıkları bozuklukları konseyi/ tümör konseyi/ genetik toplantıları/ gastro-cerrahi/ gastro-patoloji konseyi)  \n",
    "Yoğun bakım mortalite toplantıları  \n",
    "Yoğun bakım multidisipliner ekip eğitim toplantıları  \n",
    "Bilimsel çalışma toplantıları \n",
    "- Fiziksel Tıp ve Rehabilitasyon Anabilim dalında verilen teorik eğitim haricindeki klinik  eğitim faaliyetleri \n",
    "(Aylık) \n",
    "Hasta viziti (20 saat) \n",
    "Büyük hasta viziti (12 saat)  \n",
    "(Fizik Tedavi ve Rehabilitasyon Kliniği Tedavi ünitesinde öğretim görevlileri, Uzmanlık Öğrencileri Hemşire, Fizyoterapistler ve FTR teknikerleri ile toplu halde büyük yatan hasta viziti yapılmaktadır. Hastaların tedavi ve rehabilitasyon programlarında klinik ilerlemeleri interdisipliner olarak değerlendirilmektedir. Ek tedaviler ekiple beraber planlanmaktadır.) \n",
    "Konsey (ayda 2 kez) \n",
    "(Fiziksel Tıp ve Rehabilitasyon + Çocuk Nöroloji + Ortopedi Multidisipliner Konsey gerçekleştirilmektedir. İlgili alanlarda öğretim üyeleri ve uzmanlık öğrencileri katılmaktadır. Multisipliner konseyde hastalar değerlendirilmekte, tedavi planları oluşturulmaktadır. Bu hastalar kayıtlanmakta ve düzenli hasta takibi yapılmaktadır.) \n",
    "(Genel) \n",
    "FTR tedavi ünitesinde uzmanlık öğrencileri için fizik tedavi ve rehabilitasyon cihazlarının tanıtımı ve pratikte kullanım eğitimi \n",
    "Tedavi edici egzersizlerin hasta üzerinde pratik gösterilmesi ve uygulanması  \n",
    "Eğitim görevlisi gözetiminde uzmanlık öğrencilerinin fonksiyonel elektrik stimülasyon tedavisinin uygulanışının öğretilmesi  \n",
    "Lokal enjeksiyon uygulamaları  \n",
    "Kinezyoterapi uygulamaları \n",
    "Ürolojii Anabilim Dalı Eğitim Faaliyetleri \n",
    "Hasta viziti \n",
    "Hasta konseyi ve literatür saati \n",
    "ESWL eğitimi \n",
    "Sistoskopi eğitimi \n",
    "Prostat biyopsisi eğitimi \n",
    "Ürodinami eğitimi "
   ]
  }
 ],
 "metadata": {
  "kernelspec": {
   "display_name": "Python 3.7.0 64-bit",
   "language": "python",
   "name": "python3"
  },
  "language_info": {
   "codemirror_mode": {
    "name": "ipython",
    "version": 3
   },
   "file_extension": ".py",
   "mimetype": "text/x-python",
   "name": "python",
   "nbconvert_exporter": "python",
   "pygments_lexer": "ipython3",
   "version": "3.7.0"
  },
  "orig_nbformat": 4,
  "vscode": {
   "interpreter": {
    "hash": "d67d4dddd1e9d82572ce3f28ed2225441c7aebb04d675cac8bd9901549f7b7f4"
   }
  }
 },
 "nbformat": 4,
 "nbformat_minor": 2
}
